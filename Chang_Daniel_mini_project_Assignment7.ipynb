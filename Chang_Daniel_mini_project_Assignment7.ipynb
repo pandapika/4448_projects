{
 "metadata": {
  "language_info": {
   "codemirror_mode": {
    "name": "ipython",
    "version": 3
   },
   "file_extension": ".py",
   "mimetype": "text/x-python",
   "name": "python",
   "nbconvert_exporter": "python",
   "pygments_lexer": "ipython3",
   "version": "3.8.3-final"
  },
  "orig_nbformat": 2,
  "kernelspec": {
   "name": "python3",
   "display_name": "Python 3.8.3 64-bit",
   "metadata": {
    "interpreter": {
     "hash": "319c24ade14b7873a3f936c1569cf8c1853592b8350107cb8f60c9b2a2771b37"
    }
   }
  }
 },
 "nbformat": 4,
 "nbformat_minor": 2,
 "cells": [
  {
   "source": [],
   "cell_type": "markdown",
   "metadata": {}
  },
  {
   "cell_type": "code",
   "execution_count": 1,
   "metadata": {},
   "outputs": [],
   "source": [
    "import pandas as pd\n",
    "import numpy as np\n",
    "from matplotlib import pyplot as plt\n",
    "import seaborn as sns\n",
    "\n",
    "from sklearn.preprocessing import MinMaxScaler, OrdinalEncoder, StandardScaler\n",
    "from sklearn.decomposition import PCA\n",
    "\n",
    "from sklearn.compose import ColumnTransformer\n",
    "\n",
    "from sklearn.linear_model import LogisticRegression\n",
    "from sklearn.cluster import AgglomerativeClustering, KMeans\n",
    "from scipy.cluster.hierarchy import dendrogram, linkage\n"
   ]
  },
  {
   "source": [
    "----------------"
   ],
   "cell_type": "markdown",
   "metadata": {}
  },
  {
   "cell_type": "code",
   "execution_count": 17,
   "metadata": {},
   "outputs": [],
   "source": [
    "import statsmodels.api as sm\n",
    "import statsmodels.formula.api as smf\n",
    "\n",
    "from sklearn.model_selection import train_test_split\n",
    "from sklearn.metrics import accuracy_score"
   ]
  },
  {
   "source": [
    "Can we predict if a customer will cancel their bookings?"
   ],
   "cell_type": "markdown",
   "metadata": {}
  },
  {
   "cell_type": "code",
   "execution_count": 42,
   "metadata": {},
   "outputs": [
    {
     "output_type": "execute_result",
     "data": {
      "text/plain": [
       "hotel                                  0\n",
       "is_canceled                            0\n",
       "lead_time                              0\n",
       "arrival_date_year                      0\n",
       "arrival_date_month                     0\n",
       "arrival_date_week_number               0\n",
       "arrival_date_day_of_month              0\n",
       "stays_in_weekend_nights                0\n",
       "stays_in_week_nights                   0\n",
       "adults                                 0\n",
       "children                               4\n",
       "babies                                 0\n",
       "meal                                   0\n",
       "country                              488\n",
       "market_segment                         0\n",
       "distribution_channel                   0\n",
       "is_repeated_guest                      0\n",
       "previous_cancellations                 0\n",
       "previous_bookings_not_canceled         0\n",
       "reserved_room_type                     0\n",
       "assigned_room_type                     0\n",
       "booking_changes                        0\n",
       "deposit_type                           0\n",
       "agent                              16340\n",
       "company                           112593\n",
       "days_in_waiting_list                   0\n",
       "customer_type                          0\n",
       "adr                                    0\n",
       "required_car_parking_spaces            0\n",
       "total_of_special_requests              0\n",
       "reservation_status                     0\n",
       "reservation_status_date                0\n",
       "dtype: int64"
      ]
     },
     "metadata": {},
     "execution_count": 42
    }
   ],
   "source": [
    "bookings = pd.read_csv('hotel_bookings.csv')\n",
    "bookings.isna().sum()"
   ]
  },
  {
   "source": [
    "Removing columns that have a lot of missing values, and reservation_status which seems to be related to the label.  Also removing values that will grow the feature list by a lot when we one hot encode the categorical features, such as country, meal, arrival_date, and reservation_status_date."
   ],
   "cell_type": "markdown",
   "metadata": {}
  },
  {
   "cell_type": "code",
   "execution_count": 43,
   "metadata": {},
   "outputs": [
    {
     "output_type": "execute_result",
     "data": {
      "text/plain": [
       "hotel                              object\n",
       "is_canceled                         int64\n",
       "lead_time                           int64\n",
       "arrival_date_year                   int64\n",
       "arrival_date_week_number            int64\n",
       "arrival_date_day_of_month           int64\n",
       "stays_in_weekend_nights             int64\n",
       "stays_in_week_nights                int64\n",
       "adults                              int64\n",
       "children                          float64\n",
       "babies                              int64\n",
       "market_segment                     object\n",
       "distribution_channel               object\n",
       "is_repeated_guest                   int64\n",
       "previous_cancellations              int64\n",
       "previous_bookings_not_canceled      int64\n",
       "reserved_room_type                 object\n",
       "assigned_room_type                 object\n",
       "booking_changes                     int64\n",
       "deposit_type                       object\n",
       "days_in_waiting_list                int64\n",
       "customer_type                      object\n",
       "adr                               float64\n",
       "required_car_parking_spaces         int64\n",
       "total_of_special_requests           int64\n",
       "dtype: object"
      ]
     },
     "metadata": {},
     "execution_count": 43
    }
   ],
   "source": [
    "bookings.drop(['agent', 'company', 'reservation_status', 'reservation_status_date', 'meal', 'arrival_date_month', 'country'], axis= 1, inplace= True)\n",
    "bookings.dropna(inplace= True)\n",
    "bookings = bookings.reset_index(drop= True)\n",
    "bookings.dtypes\n",
    "\n"
   ]
  },
  {
   "cell_type": "code",
   "execution_count": 44,
   "metadata": {},
   "outputs": [],
   "source": [
    "X = bookings.drop(['is_canceled'], axis= 1)\n",
    "y = bookings['is_canceled']\n",
    "X_df = X.select_dtypes(['number'])"
   ]
  },
  {
   "cell_type": "code",
   "execution_count": 45,
   "metadata": {},
   "outputs": [],
   "source": [
    "\n",
    "X_df = pd.DataFrame(scaler.fit_transform(X_df), columns= X_df.columns)\n"
   ]
  },
  {
   "cell_type": "code",
   "execution_count": 46,
   "metadata": {},
   "outputs": [],
   "source": [
    "X = pd.concat([X_df, pd.get_dummies(X.select_dtypes(['object']))], axis= 1)"
   ]
  },
  {
   "cell_type": "code",
   "execution_count": 55,
   "metadata": {},
   "outputs": [
    {
     "output_type": "execute_result",
     "data": {
      "text/plain": [
       "(119386, 60)"
      ]
     },
     "metadata": {},
     "execution_count": 55
    }
   ],
   "source": [
    "X.shape"
   ]
  },
  {
   "source": [
    "60 Features sounds great, but too much for the model to handle.  Run through PCA"
   ],
   "cell_type": "markdown",
   "metadata": {}
  },
  {
   "cell_type": "code",
   "execution_count": 49,
   "metadata": {},
   "outputs": [
    {
     "output_type": "execute_result",
     "data": {
      "text/plain": [
       "28"
      ]
     },
     "metadata": {},
     "execution_count": 49
    }
   ],
   "source": [
    "pca = PCA(n_components = 0.99)\n",
    "\n",
    "X_pca = pca.fit_transform(X)\n",
    "\n",
    "pca.n_components_"
   ]
  },
  {
   "cell_type": "code",
   "execution_count": 52,
   "metadata": {},
   "outputs": [],
   "source": [
    "X_train, X_test, y_train, y_test = train_test_split(X_pca, y, test_size= 0.30)"
   ]
  },
  {
   "cell_type": "code",
   "execution_count": 53,
   "metadata": {},
   "outputs": [
    {
     "output_type": "stream",
     "name": "stdout",
     "text": [
      "Optimization terminated successfully.\n",
      "         Current function value: 0.464062\n",
      "         Iterations 8\n",
      "                           Logit Regression Results                           \n",
      "==============================================================================\n",
      "Dep. Variable:            is_canceled   No. Observations:                83570\n",
      "Model:                          Logit   Df Residuals:                    83542\n",
      "Method:                           MLE   Df Model:                           27\n",
      "Date:                Fri, 12 Mar 2021   Pseudo R-squ.:                  0.2951\n",
      "Time:                        19:07:03   Log-Likelihood:                -38782.\n",
      "converged:                       True   LL-Null:                       -55020.\n",
      "Covariance Type:            nonrobust   LLR p-value:                     0.000\n",
      "==============================================================================\n",
      "                 coef    std err          z      P>|z|      [0.025      0.975]\n",
      "------------------------------------------------------------------------------\n",
      "x1            -1.6080      0.017    -96.294      0.000      -1.641      -1.575\n",
      "x2            -0.5552      0.012    -44.568      0.000      -0.580      -0.531\n",
      "x3            -0.4835      0.015    -32.328      0.000      -0.513      -0.454\n",
      "x4             0.9544      0.018     52.613      0.000       0.919       0.990\n",
      "x5             4.2757      0.039    109.433      0.000       4.199       4.352\n",
      "x6             2.0642      0.027     76.376      0.000       2.011       2.117\n",
      "x7             0.6756      0.023     29.195      0.000       0.630       0.721\n",
      "x8             0.2256      0.024      9.464      0.000       0.179       0.272\n",
      "x9            -0.2699      0.030     -8.854      0.000      -0.330      -0.210\n",
      "x10            0.1689      0.030      5.655      0.000       0.110       0.227\n",
      "x11            2.0951      0.045     46.273      0.000       2.006       2.184\n",
      "x12            0.9085      0.034     27.088      0.000       0.843       0.974\n",
      "x13            2.4476      0.046     52.691      0.000       2.357       2.539\n",
      "x14           -0.9146      0.044    -20.662      0.000      -1.001      -0.828\n",
      "x15           -0.1304      0.041     -3.206      0.001      -0.210      -0.051\n",
      "x16            0.1735      0.044      3.898      0.000       0.086       0.261\n",
      "x17           -0.3092      0.057     -5.435      0.000      -0.421      -0.198\n",
      "x18           -0.7424      0.065    -11.504      0.000      -0.869      -0.616\n",
      "x19            0.2188      0.061      3.563      0.000       0.098       0.339\n",
      "x20           -3.1816      0.066    -48.012      0.000      -3.311      -3.052\n",
      "x21           -0.7803      0.084     -9.284      0.000      -0.945      -0.616\n",
      "x22            1.6269      0.086     18.924      0.000       1.458       1.795\n",
      "x23            2.5758      0.079     32.641      0.000       2.421       2.730\n",
      "x24           -0.0738      0.096     -0.765      0.444      -0.263       0.115\n",
      "x25           -0.2654      0.074     -3.584      0.000      -0.411      -0.120\n",
      "x26            0.8328      0.114      7.318      0.000       0.610       1.056\n",
      "x27           -0.5498      0.157     -3.511      0.000      -0.857      -0.243\n",
      "x28            1.0089      0.135      7.456      0.000       0.744       1.274\n",
      "==============================================================================\n"
     ]
    }
   ],
   "source": [
    "log_reg = sm.Logit(y_train, X_train).fit()\n",
    "\n",
    "print(log_reg.summary())"
   ]
  },
  {
   "cell_type": "code",
   "execution_count": 54,
   "metadata": {},
   "outputs": [
    {
     "output_type": "execute_result",
     "data": {
      "text/plain": [
       "0.7900658923386196"
      ]
     },
     "metadata": {},
     "execution_count": 54
    }
   ],
   "source": [
    "y_pred = list(map(round, log_reg.predict(X_test)))\n",
    "accuracy_score(y_pred, y_test)\n"
   ]
  },
  {
   "cell_type": "code",
   "execution_count": 56,
   "metadata": {},
   "outputs": [
    {
     "output_type": "execute_result",
     "data": {
      "text/plain": [
       "0.7872801244465717"
      ]
     },
     "metadata": {},
     "execution_count": 56
    }
   ],
   "source": [
    "y_pred = list(map(round, log_reg.predict(X_train)))\n",
    "accuracy_score(y_pred, y_train)"
   ]
  },
  {
   "source": [
    "The model is getting about 80% accurate."
   ],
   "cell_type": "markdown",
   "metadata": {}
  }
 ]
}